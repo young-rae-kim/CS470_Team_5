{
  "nbformat": 4,
  "nbformat_minor": 0,
  "metadata": {
    "colab": {
      "name": "CS470 AI Team 5",
      "provenance": [],
      "collapsed_sections": [],
      "toc_visible": true
    },
    "kernelspec": {
      "name": "python3",
      "display_name": "Python 3"
    },
    "accelerator": "GPU"
  },
  "cells": [
    {
      "cell_type": "markdown",
      "metadata": {
        "id": "w1tLe3EFP1VQ",
        "colab_type": "text"
      },
      "source": [
        "# Show and Tell"
      ]
    },
    {
      "cell_type": "code",
      "metadata": {
        "id": "HGuwza_3Sdvw",
        "colab_type": "code",
        "outputId": "bb2d75d4-61c9-42a8-f686-437da194ce5b",
        "colab": {
          "base_uri": "https://localhost:8080/",
          "height": 124
        }
      },
      "source": [
        "from google.colab import drive\n",
        "\n",
        "drive.mount('/gdrive')\n",
        "gdrive_root = '/gdrive/My Drive'\n",
        "gdrive_data = '/gdrive/My Drive/my_data'"
      ],
      "execution_count": 1,
      "outputs": [
        {
          "output_type": "stream",
          "text": [
            "Go to this URL in a browser: https://accounts.google.com/o/oauth2/auth?client_id=947318989803-6bn6qk8qdgf4n4g3pfee6491hc0brc4i.apps.googleusercontent.com&redirect_uri=urn%3aietf%3awg%3aoauth%3a2.0%3aoob&response_type=code&scope=email%20https%3a%2f%2fwww.googleapis.com%2fauth%2fdocs.test%20https%3a%2f%2fwww.googleapis.com%2fauth%2fdrive%20https%3a%2f%2fwww.googleapis.com%2fauth%2fdrive.photos.readonly%20https%3a%2f%2fwww.googleapis.com%2fauth%2fpeopleapi.readonly\n",
            "\n",
            "Enter your authorization code:\n",
            "··········\n",
            "Mounted at /gdrive\n"
          ],
          "name": "stdout"
        }
      ]
    },
    {
      "cell_type": "code",
      "metadata": {
        "id": "T6khaY2HVGUt",
        "colab_type": "code",
        "colab": {}
      },
      "source": [
        "import torch\n",
        "import torch.nn as nn\n",
        "import torch.nn.functional as F\n",
        "import torch.optim as optim\n",
        "from torch.nn.utils.rnn import pack_padded_sequence\n",
        "\n",
        "from PIL import Image\n",
        "import matplotlib.pyplot as plt\n",
        "\n",
        "import torchvision.transforms as transforms  # transform PIL images into tensors\n",
        "import torchvision.models as models  # train or load pre-trained models\n",
        "from torchvision import datasets\n",
        "\n",
        "import torch.utils.data as data\n",
        "from torch.autograd import Variable as var\n",
        "\n",
        "import copy\n",
        "\n",
        "device = torch.device(\"cuda\" if torch.cuda.is_available() else \"cpu\")"
      ],
      "execution_count": 0,
      "outputs": []
    },
    {
      "cell_type": "code",
      "metadata": {
        "id": "u69Ocg1lWfaR",
        "colab_type": "code",
        "colab": {}
      },
      "source": [
        "imsize = 224\n",
        "\n",
        "preprocess = transforms.Compose([\n",
        "  transforms.Resize(imsize),\n",
        "  transforms.CenterCrop(imsize),\n",
        "  transforms.ToTensor(),\n",
        "  transforms.Normalize(mean=[0.485, 0.456, 0.406],\n",
        "                       std=[0.229, 0.224, 0.225])\n",
        "])\n",
        "\n",
        "#https://github.com/jbrownlee/Datasets/releases/download/Flickr8k/Flickr8k_Dataset.zip\n",
        "#https://github.com/jbrownlee/Datasets/releases/download/Flickr8k/Flickr8k_text.zip"
      ],
      "execution_count": 0,
      "outputs": []
    },
    {
      "cell_type": "markdown",
      "metadata": {
        "id": "nT_hCYLdHlZw",
        "colab_type": "text"
      },
      "source": [
        "##Download Flickr8k dataset"
      ]
    },
    {
      "cell_type": "code",
      "metadata": {
        "id": "bWTxCzI_Q5Go",
        "colab_type": "code",
        "outputId": "ab2bd96a-81a8-4411-f654-f8a9d837003d",
        "colab": {
          "base_uri": "https://localhost:8080/",
          "height": 35
        }
      },
      "source": [
        "import os\n",
        "import urllib\n",
        "import zipfile\n",
        "\n",
        "if os.path.isdir(\"./Flicker8k_Dataset\"):\n",
        "  print(\"Dataset is already downloaded\")\n",
        "else:\n",
        "  urllib.request.urlretrieve(\"https://github.com/jbrownlee/Datasets/releases/download/Flickr8k/Flickr8k_Dataset.zip\", \"Flickr8k_image.zip\")\n",
        "  Flickr8k_image = zipfile.ZipFile('./Flickr8k_image.zip')\n",
        "  Flickr8k_image.extractall('.')\n",
        "  Flickr8k_image.close()\n",
        "  urllib.request.urlretrieve(\"https://github.com/jbrownlee/Datasets/releases/download/Flickr8k/Flickr8k_text.zip\", \"Flickr8k_caption.zip\")\n",
        "  Flickr8k_text = zipfile.ZipFile('./Flickr8k_caption.zip')\n",
        "  Flickr8k_text.extractall('.')\n",
        "  Flickr8k_text.close()\n",
        "  print(\"Flickr8k dataset is downloaded\")\n"
      ],
      "execution_count": 4,
      "outputs": [
        {
          "output_type": "stream",
          "text": [
            "Flickr8k dataset is downloaded\n"
          ],
          "name": "stdout"
        }
      ]
    },
    {
      "cell_type": "code",
      "metadata": {
        "id": "L07MiAjSKFOU",
        "colab_type": "code",
        "outputId": "d9e3c73f-03c2-4c57-b47e-2eea6bfbd7b5",
        "colab": {
          "base_uri": "https://localhost:8080/",
          "height": 72
        }
      },
      "source": [
        "import re\n",
        "\n",
        "class flickr8k():\n",
        "  def __init__(self, img_folder_path = \"./Flicker8k_Dataset\"\n",
        "                   , caption_path = \"./Flickr8k.token.txt\"\n",
        "                   , rank = 4):\n",
        "    \"\"\" Initializer\n",
        "        param img_folder_path: image folder path\n",
        "        param caption_path: caption text file path\n",
        "        param rank: caption rank setting\n",
        "\n",
        "        param captionMap: hash map (key: image_id, value: caption)\n",
        "        param trainingSet: \n",
        "        param validationSet: \n",
        "        param testSet:\n",
        "    \"\"\"\n",
        "    self.img_folder_path = img_folder_path\n",
        "    self.caption_path = caption_path\n",
        "    self.rank = rank\n",
        "    self.captionMap = self.readCaptions()\n",
        "    self.trainingSet = self.loadDataset(\"./Flickr_8k.trainImages.txt\")\n",
        "    self.validationSet = self.loadDataset(\"./Flickr_8k.devImages.txt\")\n",
        "    self.testSet = self.loadDataset(\"./Flickr_8k.testImages.txt\")\n",
        "\n",
        "  def readCaptions(self):\n",
        "    # read caption text file and return captionMap (key: image_id, value: caption)\n",
        "    captionMap = {}\n",
        "    f = open(self.caption_path, \"r\")\n",
        "    fR = f.readlines()\n",
        "    #match_re = r'(.*).jpg#' + str(self.rank) + '\\s+(.*)'\n",
        "    match_re = r'(.*).jpg#[0-9]\\s+(.*)'\n",
        "    for line in fR:\n",
        "      match = re.match(match_re, line)\n",
        "      if match:\n",
        "        image_id = match.group(1)\n",
        "        image_caption = match.group(2)\n",
        "        if image_id not in captionMap:\n",
        "          captionMap[image_id] = []\n",
        "        captionMap[image_id].append(image_caption)\n",
        "\n",
        "    return captionMap\n",
        "\n",
        "  def loadImage(self, image_id):\n",
        "    # return image path \n",
        "    image_path = os.path.join(self.img_folder_path, image_id + \".jpg\")\n",
        "    return image_path\n",
        "    \n",
        "  def loadDataset(self, dataPath):\n",
        "    # based on dataset path, extract training set, validation set, or test set\n",
        "    # return a list of object contains image id and caption\n",
        "    dataset = []\n",
        "    f = open(dataPath, \"r\")\n",
        "    fR = f.readlines()\n",
        "    match_re = r'(.*).jpg'\n",
        "    for line in fR:\n",
        "      match = re.match(match_re, line)\n",
        "      if match:\n",
        "        image_id = match.group(1)\n",
        "        for c in self.captionMap[image_id]:\n",
        "          dataset.append({\"image_id\": image_id, \"caption\": c})\n",
        "        \n",
        "    return dataset\n",
        "\n",
        "f = flickr8k(\"./Flicker8k_Dataset\", \"./Flickr8k.token.txt\")\n",
        "list(f.captionMap.keys())[0]\n",
        "print(f.trainingSet[0])\n",
        "print(f.trainingSet[1])\n",
        "#f.testSet[0]\n",
        "#f.loadImage(\"1305564994_00513f9a5b\")"
      ],
      "execution_count": 5,
      "outputs": [
        {
          "output_type": "stream",
          "text": [
            "{'image_id': '2513260012_03d33305cf', 'caption': 'A black dog is running after a white dog in the snow .'}\n",
            "{'image_id': '2513260012_03d33305cf', 'caption': 'Black dog chasing brown dog through snow'}\n"
          ],
          "name": "stdout"
        }
      ]
    },
    {
      "cell_type": "markdown",
      "metadata": {
        "id": "tjWqhiMZIEBw",
        "colab_type": "text"
      },
      "source": [
        "##Build Vocabulary"
      ]
    },
    {
      "cell_type": "code",
      "metadata": {
        "id": "zULDS2o4SyGY",
        "colab_type": "code",
        "outputId": "8baf48e6-0de9-4fc1-f74e-1a138e412dd9",
        "colab": {
          "base_uri": "https://localhost:8080/",
          "height": 69
        }
      },
      "source": [
        "from collections import Counter\n",
        "import nltk\n",
        "nltk.download('punkt')\n",
        "\n",
        "class Vocabulary():\n",
        "  def __init__(self):\n",
        "    \n",
        "    self.wordId = 0\n",
        "    self.wordToId = {}\n",
        "    self.idToWord = {}\n",
        "\n",
        "  def add_word(self, word):\n",
        "\n",
        "    if not word in self.wordToId:\n",
        "      self.wordToId[word] = self.wordId\n",
        "      self.idToWord[self.wordId] = word\n",
        "      self.wordId += 1\n",
        "  \n",
        "  def getId(self, word):\n",
        "    \n",
        "    if not word in self.wordToId:\n",
        "      return self.wordToId[\"<unk>\"]\n",
        "    return self.wordToId[word]\n",
        "\n",
        "  def getWord(self, Id):\n",
        "    return self.idToWord[Id]\n",
        "\n",
        "  def vocabSize(self):\n",
        "\n",
        "    return len(self.wordToId)\n",
        "\n",
        "def buildVocab(captionPath, threshold):\n",
        "\n",
        "  flickr = flickr8k(caption_path = captionPath)\n",
        "  # count the number of every word\n",
        "  counter = Counter()\n",
        "  for id in flickr.captionMap:\n",
        "    captions = flickr.captionMap[id]\n",
        "    for c in captions:\n",
        "      tokens = nltk.tokenize.word_tokenize(c.lower())\n",
        "      counter.update(tokens)\n",
        "    \n",
        "  # filter out words by threshold\n",
        "  words = []\n",
        "  for word, count in counter.items():\n",
        "    if count >= threshold:\n",
        "      words.append(word)\n",
        "  \n",
        "  # add words in vocabulary\n",
        "  vocab = Vocabulary()\n",
        "  vocab.add_word('<start>')\n",
        "  vocab.add_word('<end>')\n",
        "  vocab.add_word('<unk>')\n",
        "\n",
        "  for word in words:\n",
        "    vocab.add_word(word)\n",
        "  \n",
        "  return vocab\n",
        "\n",
        "def idToSentence(id, v):\n",
        "    from itertools import takewhile as tw\n",
        "    \n",
        "    wordlist = [v.wordToId[w] for w in ['<start>']]\n",
        "    predicate = lambda w_id: v.idToWord[w_id] != '<end>'\n",
        "    output = [v.idToWord[w_id] for w_id in tw(predicate, id) if w_id not in wordlist]\n",
        "\n",
        "    sentence = ' '.join(output)\n",
        "    return sentence\n",
        "\n",
        "vocabulary = buildVocab(\"./Flickr8k.token.txt\", 1)\n",
        "vocabulary.vocabSize()"
      ],
      "execution_count": 6,
      "outputs": [
        {
          "output_type": "stream",
          "text": [
            "[nltk_data] Downloading package punkt to /root/nltk_data...\n",
            "[nltk_data]   Unzipping tokenizers/punkt.zip.\n"
          ],
          "name": "stdout"
        },
        {
          "output_type": "execute_result",
          "data": {
            "text/plain": [
              "8920"
            ]
          },
          "metadata": {
            "tags": []
          },
          "execution_count": 6
        }
      ]
    },
    {
      "cell_type": "code",
      "metadata": {
        "id": "rZCWN-so_Hsv",
        "colab_type": "code",
        "colab": {}
      },
      "source": [
        "class DataLoader(data.Dataset):\n",
        "  def __init__(self, imageFolder, tokenPath, rank, vocab, stage, transform=None):\n",
        "    \"\"\" Initializer\n",
        "        param imageFolder: image folder path\n",
        "        param tokenPath: caption text file path\n",
        "        param rank: caption rank setting\n",
        "        param vocab: vocabulary\n",
        "        param stage: \"train\", \"validation\", \"test\" \n",
        "        param transform: \n",
        "    \"\"\"\n",
        "    self.root = imageFolder\n",
        "    self.flickr = flickr8k(img_folder_path = imageFolder, caption_path = tokenPath, rank = rank)\n",
        "    self.vocab = vocab\n",
        "    self.stage = stage\n",
        "    self.transform = transform\n",
        "    if stage == 'train':\n",
        "      self.dataset = self.flickr.trainingSet\n",
        "    elif stage == 'validation':\n",
        "      self.dataset = self.flickr.validationSet\n",
        "    elif stage == 'test':\n",
        "      self.dataset = self.flickr.testSet\n",
        "    else:\n",
        "      self.dataset = self.flickr.trainingSet\n",
        "\n",
        "  def __getitem__(self, index):\n",
        "\n",
        "    flickr = self.flickr\n",
        "    vocab = self.vocab\n",
        "    \n",
        "    caption = self.dataset[index]['caption']\n",
        "    img_id = self.dataset[index]['image_id']\n",
        "    path = flickr.loadImage(img_id)\n",
        "\n",
        "    image = Image.open(path).convert('RGB')\n",
        "    if self.transform is not None:\n",
        "      image = self.transform(image)\n",
        "    \n",
        "    # tokenize caption\n",
        "    tok  = nltk.tokenize.word_tokenize(str(caption).lower())\n",
        "    caption = []\n",
        "    caption.append(vocab.getId('<start>'))\n",
        "    caption.extend([vocab.getId(token) for token in tok])\n",
        "    caption.append(vocab.getId('<end>'))\n",
        "    target = torch.Tensor(caption)\n",
        "\n",
        "    return image, target\n",
        "\n",
        "  def __len__(self):\n",
        "\n",
        "    return len(self.dataset)"
      ],
      "execution_count": 0,
      "outputs": []
    },
    {
      "cell_type": "code",
      "metadata": {
        "id": "pWB-CoUVJFl5",
        "colab_type": "code",
        "colab": {}
      },
      "source": [
        "def collate_fn(data):\n",
        "  \n",
        "  data.sort(key=lambda x: len(x[1]), reverse=True)\n",
        "  images, captions = zip(*data)\n",
        "\n",
        "  images = torch.stack(images, 0)  \n",
        "\n",
        "  lengths = []\n",
        "  for cap in captions:\n",
        "    lengths.append(len(cap))\n",
        "  \n",
        "  targets = torch.zeros(len(captions), max(lengths)).long()\n",
        "\n",
        "  for i, cap in enumerate(captions):\n",
        "    end = lengths[i]\n",
        "    targets[i, :end] = cap[:end]\n",
        "  \n",
        "  return images, targets, lengths"
      ],
      "execution_count": 0,
      "outputs": []
    },
    {
      "cell_type": "code",
      "metadata": {
        "id": "xftXkcCBN3WM",
        "colab_type": "code",
        "colab": {}
      },
      "source": [
        "def get_dataloader(imageFolder, tokenPath, rank, vocab, stage, transform, batch_size, shuffle,\n",
        "               num_workers):\n",
        "  \n",
        "  flickr = DataLoader(\n",
        "      imageFolder, tokenPath, rank, vocab, stage, transform)\n",
        "\n",
        "  data_loader = torch.utils.data.DataLoader(\n",
        "      dataset=flickr,\n",
        "      batch_size=batch_size,\n",
        "      shuffle=shuffle,\n",
        "      num_workers=num_workers,\n",
        "      collate_fn=collate_fn)\n",
        "  \n",
        "  return data_loader"
      ],
      "execution_count": 0,
      "outputs": []
    },
    {
      "cell_type": "code",
      "metadata": {
        "id": "W3d8fErZGWrA",
        "colab_type": "code",
        "colab": {}
      },
      "source": [
        "# Hyperparameters for model-building\n",
        "max_epochs = 1\n",
        "test_epochs = 50\n",
        "save_epochs = 100\n",
        "learning_rate = 0.001\n",
        "batch_size = 4\n",
        "num_workers = 2\n",
        "embed_size = 1000\n",
        "hidden_size = 1000"
      ],
      "execution_count": 0,
      "outputs": []
    },
    {
      "cell_type": "markdown",
      "metadata": {
        "id": "koykj0i-IXcD",
        "colab_type": "text"
      },
      "source": [
        "##Load dataset "
      ]
    },
    {
      "cell_type": "code",
      "metadata": {
        "id": "bMHkN-WxOiSL",
        "colab_type": "code",
        "colab": {}
      },
      "source": [
        "train_loader = get_dataloader(\n",
        "    imageFolder = \"./Flicker8k_Dataset\", \n",
        "    tokenPath = \"./Flickr8k.token.txt\", \n",
        "    rank = 4, \n",
        "    vocab = vocabulary,  \n",
        "    stage = \"train\", \n",
        "    transform = preprocess, \n",
        "    batch_size = batch_size,\n",
        "    shuffle=True,\n",
        "    num_workers = num_workers)\n",
        "\n",
        "val_loader = get_dataloader(\n",
        "    imageFolder = \"./Flicker8k_Dataset\", \n",
        "    tokenPath = \"./Flickr8k.token.txt\", \n",
        "    rank = 4, \n",
        "    vocab = vocabulary,  \n",
        "    stage = \"validation\", \n",
        "    transform = preprocess, \n",
        "    batch_size = batch_size,\n",
        "    shuffle=True,\n",
        "    num_workers = num_workers)"
      ],
      "execution_count": 0,
      "outputs": []
    },
    {
      "cell_type": "markdown",
      "metadata": {
        "id": "k1dBwYfwIPFo",
        "colab_type": "text"
      },
      "source": [
        "##CNN model & RNN model"
      ]
    },
    {
      "cell_type": "code",
      "metadata": {
        "id": "_Xe-JYTCWF3Z",
        "colab_type": "code",
        "colab": {}
      },
      "source": [
        "class GoogleNet(nn.Module): \n",
        "    def __init__(self, output_dim=1000):\n",
        "        super(GoogleNet, self).__init__()\n",
        "        pretrained_model = models.googlenet(pretrained=True) # Get pre-trained googlenet from torchvision\n",
        "        self.googlenet = nn.Sequential(*list(pretrained_model.children())[:-1]) # Remove the output layer in the googlenet\n",
        "        self.linear = nn.Linear(pretrained_model.fc.in_features, output_dim)\n",
        "        self.batchnorm = nn.BatchNorm1d(output_dim, momentum=0.01)\n",
        "        self.init_weights()\n",
        "\n",
        "    def init_weights(self): # weight init, inspired by tutorial\n",
        "        self.linear.weight.data.normal_(0,0.02)\n",
        "        self.linear.bias.data.fill_(0)\n",
        "\n",
        "    def forward(self, x):\n",
        "        x = self.googlenet(x)\n",
        "        x = var(x.data)\n",
        "        x = x.view(x.size(0), -1) # flatten\n",
        "        x = self.linear(x)\n",
        "\n",
        "        return x\n",
        "\n",
        "\n",
        "class CaptionGeneratingModel(torch.nn.Module): #LSTM Caption Generating Model\n",
        "    def __init__(self, emb_size, hidden_size, vocab_size, num_layers=1):\n",
        "        # emb_size: size of word embeddings, hidden_size: size of hidden state\n",
        "        # vocab_size: size of the vocabulary, num_layers: number of layers\n",
        "\n",
        "        super(CaptionGeneratingModel, self).__init__()\n",
        "        self.embeddings = nn.Embedding(vocab_size, emb_size)\n",
        "        self.unit = nn.LSTM(emb_size, hidden_size, num_layers,\n",
        "                                                 batch_first=True)\n",
        "        self.linear = nn.Linear(hidden_size, vocab_size)\n",
        "\n",
        "    def forward(self, features, captions, lengths):\n",
        "        # features: feature parameters from GoogleNet\n",
        "        # captions: encoded and padded (target) image captions\n",
        "        # length: actual length of image captions\n",
        "\n",
        "        embeddings = self.embeddings(captions) # Embed tokens in vector space\n",
        "\n",
        "        inputs = torch.cat((features.unsqueeze(1), embeddings), 1) # Append image as first input\n",
        "\n",
        "        inputs_packed = pack_padded_sequence(inputs, lengths, batch_first=True) # Pack data\n",
        "\n",
        "        hiddens, _ = self.unit(inputs_packed) # Run data through recurrent network\n",
        "        outputs = self.linear(hiddens[0])\n",
        "        return outputs\n",
        "\n",
        "    def sample(self, features, max_len=25):\n",
        "        # features: features for GoogleNet \n",
        "        \n",
        "        output_ids = []\n",
        "        states = None\n",
        "        inputs = features.unsqueeze(1)\n",
        "\n",
        "        for i in range(max_len):\n",
        "            hiddens, states = self.unit(inputs, states) # Pass data through recurrent network\n",
        "            outputs = self.linear(hiddens.squeeze(1))\n",
        "\n",
        "            predicted = outputs.max(1)[1] # Find maximal predictions\n",
        "\n",
        "            output_ids.append(predicted) # Append results from given step to global results\n",
        "\n",
        "            inputs = self.embeddings(predicted) # Prepare chosen words for next decoding step\n",
        "            inputs = inputs.unsqueeze(1)\n",
        "        output_ids = torch.stack(output_ids, 1)\n",
        "        return output_ids.squeeze() # Return predicted image captions"
      ],
      "execution_count": 0,
      "outputs": []
    },
    {
      "cell_type": "markdown",
      "metadata": {
        "id": "wIXCs-PHGjaq",
        "colab_type": "text"
      },
      "source": [
        "## Loss Function"
      ]
    },
    {
      "cell_type": "code",
      "metadata": {
        "id": "j7XlisaeH_t5",
        "colab_type": "code",
        "colab": {}
      },
      "source": [
        "# Loss function (Negative Log-likelihood Loss with Softmax)\n",
        "# Equivalently, Cross-Entropy Loss\n",
        "loss_function = nn.CrossEntropyLoss()"
      ],
      "execution_count": 0,
      "outputs": []
    },
    {
      "cell_type": "markdown",
      "metadata": {
        "id": "yAO80O2aGr1u",
        "colab_type": "text"
      },
      "source": [
        "## Train the Model\n",
        "We save our checkpoint file in '/gdrive/My Drive/my_data/checkpoints'"
      ]
    },
    {
      "cell_type": "code",
      "metadata": {
        "id": "fnM5mzo4K24G",
        "colab_type": "code",
        "outputId": "7096f462-b6f5-407e-9723-076b988dbc19",
        "colab": {
          "base_uri": "https://localhost:8080/",
          "height": 1000
        }
      },
      "source": [
        "# Initialize the model\n",
        "googleNet = GoogleNet(embed_size)\n",
        "captionModel = CaptionGeneratingModel(embed_size, hidden_size, vocabulary.vocabSize())\n",
        "googleNet.to(device)\n",
        "captionModel.to(device)\n",
        "\n",
        "params = list(captionModel.parameters())\n",
        "params += list(googleNet.linear.parameters())\n",
        "params += list(googleNet.batchnorm.parameters())\n",
        "optimizer = torch.optim.Adam(params, lr = learning_rate)\n",
        "\n",
        "train_loss = [0.0]\n",
        "val_loss = [0.0]\n",
        "loader_length = len(train_loader)\n",
        "start_index = 0\n",
        "start_batch = 0\n",
        "base_dir = os.path.join(gdrive_data, 'checkpoints')\n",
        "checkpoint_name = None\n",
        "# checkpoint_name = '1_300.pt'\n",
        "\n",
        "# Load checkpoint\n",
        "if isinstance(checkpoint_name, str):\n",
        "  try:\n",
        "    checkpoint_file = os.path.join(base_dir, checkpoint_name)\n",
        "    checkpoint = torch.load(checkpoint_file)\n",
        "    CNN_state_dict = checkpoint['CNN']\n",
        "    RNN_state_dict = checkpoint['RNN']\n",
        "    googleNet.load_state_dict(CNN_state_dict)\n",
        "    captionModel.load_state_dict(RNN_state_dict)\n",
        "    optimizer = checkpoint['optimizer']\n",
        "    train_loss = checkpoint['train_loss']\n",
        "    val_loss = checkpoint['val_loss']\n",
        "    start_index = checkpoint['epoch']\n",
        "    start_batch = checkpoint['batch_number']\n",
        "\n",
        "    if start_batch == loader_length - 1:\n",
        "      start_batch = 0\n",
        "      start_index += 1\n",
        "    \n",
        "    embed_size = checkpoint['embed_size']\n",
        "    hidden_size = checkpoint['hidden_size']\n",
        "    print('Checkpoint loaded')\n",
        "  except:\n",
        "    print('Checkpoint load failed')\n",
        "\n",
        "# Train the model\n",
        "for i in range(start_index, max_epochs):\n",
        "  for j, (features, captions, lengths) in enumerate(train_loader):\n",
        "\n",
        "    if start_batch != 0 and j <= start_batch:\n",
        "      continue\n",
        "\n",
        "    # Initalize and optimize\n",
        "    googleNet.zero_grad()\n",
        "    captionModel.zero_grad()\n",
        "\n",
        "    # Convert into tensors for inputs and ground-truth outputs\n",
        "    features = var(features, volatile = True).to(device)\n",
        "    captions = var(captions, volatile = False).to(device)\n",
        "    groundtruth_outputs = pack_padded_sequence(captions, \n",
        "                                               lengths, \n",
        "                                               batch_first = True)[0]\n",
        "\n",
        "    # Training steps with back-propagation\n",
        "    intermediates = googleNet(features)\n",
        "    outputs = captionModel(intermediates, \n",
        "                           captions, \n",
        "                           lengths)\n",
        "    loss = loss_function(outputs, groundtruth_outputs)\n",
        "    train_loss.append(loss.data.item())\n",
        "    loss.backward()\n",
        "    optimizer.step()\n",
        "\n",
        "    # Check validation and test the current state\n",
        "    if (j + 1) % test_epochs == 0:\n",
        "\n",
        "      # Change batch normalization state\n",
        "      googleNet.batchnorm.eval()\n",
        "      \n",
        "      # Check validation of the model\n",
        "      import random\n",
        "      index = random.randrange(0, len(val_loader))\n",
        "      for k, (features, captions, lengths) in enumerate(val_loader):\n",
        "\n",
        "          if k == index:\n",
        "            # Convert into tensors for inputs and ground-truth outputs\n",
        "            features = var(features, volatile=True).to(device)\n",
        "            captions = var(captions, volatile=True).to(device)\n",
        "            groundtruth_outputs = pack_padded_sequence(captions, \n",
        "                                                      lengths, \n",
        "                                                      batch_first=True)[0]\n",
        "            \n",
        "            # Check validation with foward-propagation\n",
        "            intermediates = googleNet(features)\n",
        "            outputs = captionModel(intermediates, \n",
        "                                  captions, \n",
        "                                  lengths)\n",
        "            loss = loss_function(outputs, groundtruth_outputs)\n",
        "            val_loss.append(loss.data.item())\n",
        "\n",
        "            # Test the current state\n",
        "            evaluation = captionModel.sample(intermediates)\n",
        "            evaluation = evaluation.cpu().data.numpy()[0]\n",
        "            sentence = idToSentence(evaluation, vocabulary)\n",
        "            print('Evaluation  :', sentence)\n",
        "\n",
        "            groundtruth = captions.cpu().data.numpy()[0]\n",
        "            sentence = idToSentence(groundtruth, vocabulary)\n",
        "            print('Ground-truth:', sentence)\n",
        "            print('Eval Loss   : {:.4f}'.format(val_loss[-1]))\n",
        "            print('Epoch: {}, Batch: {}, Train Loss: {:.4f}'.format(i, j, train_loss[-1]))\n",
        "\n",
        "            break\n",
        "\n",
        "      # Change batch normalization state\n",
        "      googleNet.batchnorm.train()\n",
        "    \n",
        "    else:\n",
        "      print('Epoch: {}, Batch: {}, Train Loss: {:.4f}'.format(i, j, train_loss[-1]))\n",
        "\n",
        "    # Save checkpoint\n",
        "    if (j + 1) % save_epochs == 0:\n",
        "      if not os.path.exists(base_dir):\n",
        "        os.makedirs(base_dir)\n",
        "      checkpoint_file = os.path.join(base_dir, '%d_%d.pt' % (i + 1, j + 1))\n",
        "      torch.save({'CNN': googleNet.state_dict(), 'RNN': captionModel.state_dict(), 'optimizer': optimizer, 'train_loss': train_loss, 'val_loss': val_loss, 'epoch': i, 'batch_number': j, 'embed_size' : embed_size, 'hidden_size' : hidden_size}, checkpoint_file)  \n",
        "      print('Checkpoint saved')\n",
        "\n",
        "  start_batch = 0\n"
      ],
      "execution_count": 14,
      "outputs": [
        {
          "output_type": "stream",
          "text": [
            "Downloading: \"https://download.pytorch.org/models/googlenet-1378be20.pth\" to /root/.cache/torch/checkpoints/googlenet-1378be20.pth\n",
            "100%|██████████| 49.7M/49.7M [00:00<00:00, 99.2MB/s]\n",
            "/usr/local/lib/python3.6/dist-packages/ipykernel_launcher.py:57: UserWarning: volatile was removed and now has no effect. Use `with torch.no_grad():` instead.\n"
          ],
          "name": "stderr"
        },
        {
          "output_type": "stream",
          "text": [
            "Epoch: 0, Batch: 0, Train Loss: 9.1132\n",
            "Epoch: 0, Batch: 1, Train Loss: 8.8576\n",
            "Epoch: 0, Batch: 2, Train Loss: 8.5240\n",
            "Epoch: 0, Batch: 3, Train Loss: 8.0832\n",
            "Epoch: 0, Batch: 4, Train Loss: 7.8059\n",
            "Epoch: 0, Batch: 5, Train Loss: 6.4703\n",
            "Epoch: 0, Batch: 6, Train Loss: 5.4046\n",
            "Epoch: 0, Batch: 7, Train Loss: 5.4500\n",
            "Epoch: 0, Batch: 8, Train Loss: 6.0394\n",
            "Epoch: 0, Batch: 9, Train Loss: 5.0829\n",
            "Epoch: 0, Batch: 10, Train Loss: 5.8666\n",
            "Epoch: 0, Batch: 11, Train Loss: 5.9186\n",
            "Epoch: 0, Batch: 12, Train Loss: 4.7348\n",
            "Epoch: 0, Batch: 13, Train Loss: 5.0485\n",
            "Epoch: 0, Batch: 14, Train Loss: 4.8238\n",
            "Epoch: 0, Batch: 15, Train Loss: 4.7271\n",
            "Epoch: 0, Batch: 16, Train Loss: 4.8400\n",
            "Epoch: 0, Batch: 17, Train Loss: 4.9679\n",
            "Epoch: 0, Batch: 18, Train Loss: 4.1146\n",
            "Epoch: 0, Batch: 19, Train Loss: 4.6800\n",
            "Epoch: 0, Batch: 20, Train Loss: 4.2769\n",
            "Epoch: 0, Batch: 21, Train Loss: 5.0670\n",
            "Epoch: 0, Batch: 22, Train Loss: 5.2839\n",
            "Epoch: 0, Batch: 23, Train Loss: 4.1962\n",
            "Epoch: 0, Batch: 24, Train Loss: 4.9121\n",
            "Epoch: 0, Batch: 25, Train Loss: 4.7794\n",
            "Epoch: 0, Batch: 26, Train Loss: 3.6781\n",
            "Epoch: 0, Batch: 27, Train Loss: 4.9186\n",
            "Epoch: 0, Batch: 28, Train Loss: 4.7882\n",
            "Epoch: 0, Batch: 29, Train Loss: 5.0317\n",
            "Epoch: 0, Batch: 30, Train Loss: 4.1202\n",
            "Epoch: 0, Batch: 31, Train Loss: 3.7636\n",
            "Epoch: 0, Batch: 32, Train Loss: 3.8715\n",
            "Epoch: 0, Batch: 33, Train Loss: 4.4437\n",
            "Epoch: 0, Batch: 34, Train Loss: 4.2816\n",
            "Epoch: 0, Batch: 35, Train Loss: 4.5346\n",
            "Epoch: 0, Batch: 36, Train Loss: 3.7870\n",
            "Epoch: 0, Batch: 37, Train Loss: 4.0352\n",
            "Epoch: 0, Batch: 38, Train Loss: 4.2199\n",
            "Epoch: 0, Batch: 39, Train Loss: 4.4403\n",
            "Epoch: 0, Batch: 40, Train Loss: 5.2426\n",
            "Epoch: 0, Batch: 41, Train Loss: 4.4218\n",
            "Epoch: 0, Batch: 42, Train Loss: 4.3056\n",
            "Epoch: 0, Batch: 43, Train Loss: 5.0669\n",
            "Epoch: 0, Batch: 44, Train Loss: 5.0463\n",
            "Epoch: 0, Batch: 45, Train Loss: 5.1148\n",
            "Epoch: 0, Batch: 46, Train Loss: 5.4700\n",
            "Epoch: 0, Batch: 47, Train Loss: 4.7026\n",
            "Epoch: 0, Batch: 48, Train Loss: 4.6043\n"
          ],
          "name": "stdout"
        },
        {
          "output_type": "error",
          "ename": "KeyboardInterrupt",
          "evalue": "ignored",
          "traceback": [
            "\u001b[0;31m---------------------------------------------------------------------------\u001b[0m",
            "\u001b[0;31mKeyboardInterrupt\u001b[0m                         Traceback (most recent call last)",
            "\u001b[0;32m<ipython-input-14-a11fc32e143f>\u001b[0m in \u001b[0;36m<module>\u001b[0;34m()\u001b[0m\n\u001b[1;32m     80\u001b[0m       \u001b[0;32mimport\u001b[0m \u001b[0mrandom\u001b[0m\u001b[0;34m\u001b[0m\u001b[0;34m\u001b[0m\u001b[0m\n\u001b[1;32m     81\u001b[0m       \u001b[0mindex\u001b[0m \u001b[0;34m=\u001b[0m \u001b[0mrandom\u001b[0m\u001b[0;34m.\u001b[0m\u001b[0mrandrange\u001b[0m\u001b[0;34m(\u001b[0m\u001b[0;36m0\u001b[0m\u001b[0;34m,\u001b[0m \u001b[0mlen\u001b[0m\u001b[0;34m(\u001b[0m\u001b[0mval_loader\u001b[0m\u001b[0;34m)\u001b[0m\u001b[0;34m)\u001b[0m\u001b[0;34m\u001b[0m\u001b[0;34m\u001b[0m\u001b[0m\n\u001b[0;32m---> 82\u001b[0;31m       \u001b[0;32mfor\u001b[0m \u001b[0mk\u001b[0m\u001b[0;34m,\u001b[0m \u001b[0;34m(\u001b[0m\u001b[0mfeatures\u001b[0m\u001b[0;34m,\u001b[0m \u001b[0mcaptions\u001b[0m\u001b[0;34m,\u001b[0m \u001b[0mlengths\u001b[0m\u001b[0;34m)\u001b[0m \u001b[0;32min\u001b[0m \u001b[0menumerate\u001b[0m\u001b[0;34m(\u001b[0m\u001b[0mval_loader\u001b[0m\u001b[0;34m)\u001b[0m\u001b[0;34m:\u001b[0m\u001b[0;34m\u001b[0m\u001b[0;34m\u001b[0m\u001b[0m\n\u001b[0m\u001b[1;32m     83\u001b[0m \u001b[0;34m\u001b[0m\u001b[0m\n\u001b[1;32m     84\u001b[0m           \u001b[0;32mif\u001b[0m \u001b[0mk\u001b[0m \u001b[0;34m==\u001b[0m \u001b[0mindex\u001b[0m\u001b[0;34m:\u001b[0m\u001b[0;34m\u001b[0m\u001b[0;34m\u001b[0m\u001b[0m\n",
            "\u001b[0;32m/usr/local/lib/python3.6/dist-packages/torch/utils/data/dataloader.py\u001b[0m in \u001b[0;36m__next__\u001b[0;34m(self)\u001b[0m\n\u001b[1;32m    802\u001b[0m \u001b[0;34m\u001b[0m\u001b[0m\n\u001b[1;32m    803\u001b[0m             \u001b[0;32massert\u001b[0m \u001b[0;32mnot\u001b[0m \u001b[0mself\u001b[0m\u001b[0;34m.\u001b[0m\u001b[0m_shutdown\u001b[0m \u001b[0;32mand\u001b[0m \u001b[0mself\u001b[0m\u001b[0;34m.\u001b[0m\u001b[0m_tasks_outstanding\u001b[0m \u001b[0;34m>\u001b[0m \u001b[0;36m0\u001b[0m\u001b[0;34m\u001b[0m\u001b[0;34m\u001b[0m\u001b[0m\n\u001b[0;32m--> 804\u001b[0;31m             \u001b[0midx\u001b[0m\u001b[0;34m,\u001b[0m \u001b[0mdata\u001b[0m \u001b[0;34m=\u001b[0m \u001b[0mself\u001b[0m\u001b[0;34m.\u001b[0m\u001b[0m_get_data\u001b[0m\u001b[0;34m(\u001b[0m\u001b[0;34m)\u001b[0m\u001b[0;34m\u001b[0m\u001b[0;34m\u001b[0m\u001b[0m\n\u001b[0m\u001b[1;32m    805\u001b[0m             \u001b[0mself\u001b[0m\u001b[0;34m.\u001b[0m\u001b[0m_tasks_outstanding\u001b[0m \u001b[0;34m-=\u001b[0m \u001b[0;36m1\u001b[0m\u001b[0;34m\u001b[0m\u001b[0;34m\u001b[0m\u001b[0m\n\u001b[1;32m    806\u001b[0m \u001b[0;34m\u001b[0m\u001b[0m\n",
            "\u001b[0;32m/usr/local/lib/python3.6/dist-packages/torch/utils/data/dataloader.py\u001b[0m in \u001b[0;36m_get_data\u001b[0;34m(self)\u001b[0m\n\u001b[1;32m    769\u001b[0m         \u001b[0;32melse\u001b[0m\u001b[0;34m:\u001b[0m\u001b[0;34m\u001b[0m\u001b[0;34m\u001b[0m\u001b[0m\n\u001b[1;32m    770\u001b[0m             \u001b[0;32mwhile\u001b[0m \u001b[0;32mTrue\u001b[0m\u001b[0;34m:\u001b[0m\u001b[0;34m\u001b[0m\u001b[0;34m\u001b[0m\u001b[0m\n\u001b[0;32m--> 771\u001b[0;31m                 \u001b[0msuccess\u001b[0m\u001b[0;34m,\u001b[0m \u001b[0mdata\u001b[0m \u001b[0;34m=\u001b[0m \u001b[0mself\u001b[0m\u001b[0;34m.\u001b[0m\u001b[0m_try_get_data\u001b[0m\u001b[0;34m(\u001b[0m\u001b[0;34m)\u001b[0m\u001b[0;34m\u001b[0m\u001b[0;34m\u001b[0m\u001b[0m\n\u001b[0m\u001b[1;32m    772\u001b[0m                 \u001b[0;32mif\u001b[0m \u001b[0msuccess\u001b[0m\u001b[0;34m:\u001b[0m\u001b[0;34m\u001b[0m\u001b[0;34m\u001b[0m\u001b[0m\n\u001b[1;32m    773\u001b[0m                     \u001b[0;32mreturn\u001b[0m \u001b[0mdata\u001b[0m\u001b[0;34m\u001b[0m\u001b[0;34m\u001b[0m\u001b[0m\n",
            "\u001b[0;32m/usr/local/lib/python3.6/dist-packages/torch/utils/data/dataloader.py\u001b[0m in \u001b[0;36m_try_get_data\u001b[0;34m(self, timeout)\u001b[0m\n\u001b[1;32m    722\u001b[0m         \u001b[0;31m#   (bool: whether successfully get data, any: data if successful else None)\u001b[0m\u001b[0;34m\u001b[0m\u001b[0;34m\u001b[0m\u001b[0;34m\u001b[0m\u001b[0m\n\u001b[1;32m    723\u001b[0m         \u001b[0;32mtry\u001b[0m\u001b[0;34m:\u001b[0m\u001b[0;34m\u001b[0m\u001b[0;34m\u001b[0m\u001b[0m\n\u001b[0;32m--> 724\u001b[0;31m             \u001b[0mdata\u001b[0m \u001b[0;34m=\u001b[0m \u001b[0mself\u001b[0m\u001b[0;34m.\u001b[0m\u001b[0m_data_queue\u001b[0m\u001b[0;34m.\u001b[0m\u001b[0mget\u001b[0m\u001b[0;34m(\u001b[0m\u001b[0mtimeout\u001b[0m\u001b[0;34m=\u001b[0m\u001b[0mtimeout\u001b[0m\u001b[0;34m)\u001b[0m\u001b[0;34m\u001b[0m\u001b[0;34m\u001b[0m\u001b[0m\n\u001b[0m\u001b[1;32m    725\u001b[0m             \u001b[0;32mreturn\u001b[0m \u001b[0;34m(\u001b[0m\u001b[0;32mTrue\u001b[0m\u001b[0;34m,\u001b[0m \u001b[0mdata\u001b[0m\u001b[0;34m)\u001b[0m\u001b[0;34m\u001b[0m\u001b[0;34m\u001b[0m\u001b[0m\n\u001b[1;32m    726\u001b[0m         \u001b[0;32mexcept\u001b[0m \u001b[0mException\u001b[0m \u001b[0;32mas\u001b[0m \u001b[0me\u001b[0m\u001b[0;34m:\u001b[0m\u001b[0;34m\u001b[0m\u001b[0;34m\u001b[0m\u001b[0m\n",
            "\u001b[0;32m/usr/lib/python3.6/multiprocessing/queues.py\u001b[0m in \u001b[0;36mget\u001b[0;34m(self, block, timeout)\u001b[0m\n\u001b[1;32m    102\u001b[0m                 \u001b[0;32mif\u001b[0m \u001b[0mblock\u001b[0m\u001b[0;34m:\u001b[0m\u001b[0;34m\u001b[0m\u001b[0;34m\u001b[0m\u001b[0m\n\u001b[1;32m    103\u001b[0m                     \u001b[0mtimeout\u001b[0m \u001b[0;34m=\u001b[0m \u001b[0mdeadline\u001b[0m \u001b[0;34m-\u001b[0m \u001b[0mtime\u001b[0m\u001b[0;34m.\u001b[0m\u001b[0mmonotonic\u001b[0m\u001b[0;34m(\u001b[0m\u001b[0;34m)\u001b[0m\u001b[0;34m\u001b[0m\u001b[0;34m\u001b[0m\u001b[0m\n\u001b[0;32m--> 104\u001b[0;31m                     \u001b[0;32mif\u001b[0m \u001b[0;32mnot\u001b[0m \u001b[0mself\u001b[0m\u001b[0;34m.\u001b[0m\u001b[0m_poll\u001b[0m\u001b[0;34m(\u001b[0m\u001b[0mtimeout\u001b[0m\u001b[0;34m)\u001b[0m\u001b[0;34m:\u001b[0m\u001b[0;34m\u001b[0m\u001b[0;34m\u001b[0m\u001b[0m\n\u001b[0m\u001b[1;32m    105\u001b[0m                         \u001b[0;32mraise\u001b[0m \u001b[0mEmpty\u001b[0m\u001b[0;34m\u001b[0m\u001b[0;34m\u001b[0m\u001b[0m\n\u001b[1;32m    106\u001b[0m                 \u001b[0;32melif\u001b[0m \u001b[0;32mnot\u001b[0m \u001b[0mself\u001b[0m\u001b[0;34m.\u001b[0m\u001b[0m_poll\u001b[0m\u001b[0;34m(\u001b[0m\u001b[0;34m)\u001b[0m\u001b[0;34m:\u001b[0m\u001b[0;34m\u001b[0m\u001b[0;34m\u001b[0m\u001b[0m\n",
            "\u001b[0;32m/usr/lib/python3.6/multiprocessing/connection.py\u001b[0m in \u001b[0;36mpoll\u001b[0;34m(self, timeout)\u001b[0m\n\u001b[1;32m    255\u001b[0m         \u001b[0mself\u001b[0m\u001b[0;34m.\u001b[0m\u001b[0m_check_closed\u001b[0m\u001b[0;34m(\u001b[0m\u001b[0;34m)\u001b[0m\u001b[0;34m\u001b[0m\u001b[0;34m\u001b[0m\u001b[0m\n\u001b[1;32m    256\u001b[0m         \u001b[0mself\u001b[0m\u001b[0;34m.\u001b[0m\u001b[0m_check_readable\u001b[0m\u001b[0;34m(\u001b[0m\u001b[0;34m)\u001b[0m\u001b[0;34m\u001b[0m\u001b[0;34m\u001b[0m\u001b[0m\n\u001b[0;32m--> 257\u001b[0;31m         \u001b[0;32mreturn\u001b[0m \u001b[0mself\u001b[0m\u001b[0;34m.\u001b[0m\u001b[0m_poll\u001b[0m\u001b[0;34m(\u001b[0m\u001b[0mtimeout\u001b[0m\u001b[0;34m)\u001b[0m\u001b[0;34m\u001b[0m\u001b[0;34m\u001b[0m\u001b[0m\n\u001b[0m\u001b[1;32m    258\u001b[0m \u001b[0;34m\u001b[0m\u001b[0m\n\u001b[1;32m    259\u001b[0m     \u001b[0;32mdef\u001b[0m \u001b[0m__enter__\u001b[0m\u001b[0;34m(\u001b[0m\u001b[0mself\u001b[0m\u001b[0;34m)\u001b[0m\u001b[0;34m:\u001b[0m\u001b[0;34m\u001b[0m\u001b[0;34m\u001b[0m\u001b[0m\n",
            "\u001b[0;32m/usr/lib/python3.6/multiprocessing/connection.py\u001b[0m in \u001b[0;36m_poll\u001b[0;34m(self, timeout)\u001b[0m\n\u001b[1;32m    412\u001b[0m \u001b[0;34m\u001b[0m\u001b[0m\n\u001b[1;32m    413\u001b[0m     \u001b[0;32mdef\u001b[0m \u001b[0m_poll\u001b[0m\u001b[0;34m(\u001b[0m\u001b[0mself\u001b[0m\u001b[0;34m,\u001b[0m \u001b[0mtimeout\u001b[0m\u001b[0;34m)\u001b[0m\u001b[0;34m:\u001b[0m\u001b[0;34m\u001b[0m\u001b[0;34m\u001b[0m\u001b[0m\n\u001b[0;32m--> 414\u001b[0;31m         \u001b[0mr\u001b[0m \u001b[0;34m=\u001b[0m \u001b[0mwait\u001b[0m\u001b[0;34m(\u001b[0m\u001b[0;34m[\u001b[0m\u001b[0mself\u001b[0m\u001b[0;34m]\u001b[0m\u001b[0;34m,\u001b[0m \u001b[0mtimeout\u001b[0m\u001b[0;34m)\u001b[0m\u001b[0;34m\u001b[0m\u001b[0;34m\u001b[0m\u001b[0m\n\u001b[0m\u001b[1;32m    415\u001b[0m         \u001b[0;32mreturn\u001b[0m \u001b[0mbool\u001b[0m\u001b[0;34m(\u001b[0m\u001b[0mr\u001b[0m\u001b[0;34m)\u001b[0m\u001b[0;34m\u001b[0m\u001b[0;34m\u001b[0m\u001b[0m\n\u001b[1;32m    416\u001b[0m \u001b[0;34m\u001b[0m\u001b[0m\n",
            "\u001b[0;32m/usr/lib/python3.6/multiprocessing/connection.py\u001b[0m in \u001b[0;36mwait\u001b[0;34m(object_list, timeout)\u001b[0m\n\u001b[1;32m    909\u001b[0m \u001b[0;34m\u001b[0m\u001b[0m\n\u001b[1;32m    910\u001b[0m             \u001b[0;32mwhile\u001b[0m \u001b[0;32mTrue\u001b[0m\u001b[0;34m:\u001b[0m\u001b[0;34m\u001b[0m\u001b[0;34m\u001b[0m\u001b[0m\n\u001b[0;32m--> 911\u001b[0;31m                 \u001b[0mready\u001b[0m \u001b[0;34m=\u001b[0m \u001b[0mselector\u001b[0m\u001b[0;34m.\u001b[0m\u001b[0mselect\u001b[0m\u001b[0;34m(\u001b[0m\u001b[0mtimeout\u001b[0m\u001b[0;34m)\u001b[0m\u001b[0;34m\u001b[0m\u001b[0;34m\u001b[0m\u001b[0m\n\u001b[0m\u001b[1;32m    912\u001b[0m                 \u001b[0;32mif\u001b[0m \u001b[0mready\u001b[0m\u001b[0;34m:\u001b[0m\u001b[0;34m\u001b[0m\u001b[0;34m\u001b[0m\u001b[0m\n\u001b[1;32m    913\u001b[0m                     \u001b[0;32mreturn\u001b[0m \u001b[0;34m[\u001b[0m\u001b[0mkey\u001b[0m\u001b[0;34m.\u001b[0m\u001b[0mfileobj\u001b[0m \u001b[0;32mfor\u001b[0m \u001b[0;34m(\u001b[0m\u001b[0mkey\u001b[0m\u001b[0;34m,\u001b[0m \u001b[0mevents\u001b[0m\u001b[0;34m)\u001b[0m \u001b[0;32min\u001b[0m \u001b[0mready\u001b[0m\u001b[0;34m]\u001b[0m\u001b[0;34m\u001b[0m\u001b[0;34m\u001b[0m\u001b[0m\n",
            "\u001b[0;32m/usr/lib/python3.6/selectors.py\u001b[0m in \u001b[0;36mselect\u001b[0;34m(self, timeout)\u001b[0m\n\u001b[1;32m    374\u001b[0m             \u001b[0mready\u001b[0m \u001b[0;34m=\u001b[0m \u001b[0;34m[\u001b[0m\u001b[0;34m]\u001b[0m\u001b[0;34m\u001b[0m\u001b[0;34m\u001b[0m\u001b[0m\n\u001b[1;32m    375\u001b[0m             \u001b[0;32mtry\u001b[0m\u001b[0;34m:\u001b[0m\u001b[0;34m\u001b[0m\u001b[0;34m\u001b[0m\u001b[0m\n\u001b[0;32m--> 376\u001b[0;31m                 \u001b[0mfd_event_list\u001b[0m \u001b[0;34m=\u001b[0m \u001b[0mself\u001b[0m\u001b[0;34m.\u001b[0m\u001b[0m_poll\u001b[0m\u001b[0;34m.\u001b[0m\u001b[0mpoll\u001b[0m\u001b[0;34m(\u001b[0m\u001b[0mtimeout\u001b[0m\u001b[0;34m)\u001b[0m\u001b[0;34m\u001b[0m\u001b[0;34m\u001b[0m\u001b[0m\n\u001b[0m\u001b[1;32m    377\u001b[0m             \u001b[0;32mexcept\u001b[0m \u001b[0mInterruptedError\u001b[0m\u001b[0;34m:\u001b[0m\u001b[0;34m\u001b[0m\u001b[0;34m\u001b[0m\u001b[0m\n\u001b[1;32m    378\u001b[0m                 \u001b[0;32mreturn\u001b[0m \u001b[0mready\u001b[0m\u001b[0;34m\u001b[0m\u001b[0;34m\u001b[0m\u001b[0m\n",
            "\u001b[0;31mKeyboardInterrupt\u001b[0m: "
          ]
        }
      ]
    },
    {
      "cell_type": "markdown",
      "metadata": {
        "id": "SCwoLoMI3Zpf",
        "colab_type": "text"
      },
      "source": [
        "## Random Inference from Flickr test dataset"
      ]
    },
    {
      "cell_type": "code",
      "metadata": {
        "id": "LeFryFwu3Sus",
        "colab_type": "code",
        "outputId": "4b0129a5-547a-41eb-c392-544527961d23",
        "colab": {
          "base_uri": "https://localhost:8080/",
          "height": 304
        }
      },
      "source": [
        "import random\n",
        "import numpy as np\n",
        "\n",
        "def getRandomImage(img_list):\n",
        "  \"\"\"\n",
        "  Returns a random filename, chosen among the files of the given path.\n",
        "  \"\"\"\n",
        "  index = random.randrange(0, len(img_list))\n",
        "  return img_list[index]\n",
        "\n",
        "def load_image(image_path, transform=None):\n",
        "    image = Image.open(image_path)\n",
        "    image = image.resize([224, 224])\n",
        "    \n",
        "    if transform is not None:\n",
        "        image = transform(image).unsqueeze(0)\n",
        "    \n",
        "    return image\n",
        "\n",
        "#Loading checkpoint and initializing encoder and decoder\n",
        "ckpt_dir = os.path.join(gdrive_data, 'checkpoints')\n",
        "ckpt_path = os.path.join(ckpt_dir, '60_1835.pt')\n",
        "checkpoint = torch.load(ckpt_path)\n",
        "embed_size = checkpoint['embed_size']\n",
        "hidden_size = checkpoint['hidden_size']\n",
        "\n",
        "encoder = GoogleNet(embed_size).to(device)\n",
        "decoder = CaptionGeneratingModel(embed_size, hidden_size, vocabulary.vocabSize(),1).to(device)\n",
        "\n",
        "decoder_state_dict = checkpoint['RNN']\n",
        "encoder_state_dict = checkpoint['CNN']\n",
        "encoder.load_state_dict(encoder_state_dict)\n",
        "decoder.load_state_dict(decoder_state_dict)\n",
        "\n",
        "encoder.eval()\n",
        "decoder.eval()\n",
        "\n",
        "#Acquiring list of images\n",
        "img_list=[]\n",
        "with open('./Flickr_8k.testImages.txt','r') as f:\n",
        "  for i in f:\n",
        "    img_list.append(i.strip())\n",
        "\n",
        "#Choosing a random image for evaluation\n",
        "filename = getRandomImage(img_list)\n",
        "image = load_image('./Flicker8k_Dataset/'+ str(filename), preprocess)\n",
        "image = image.to(device)\n",
        "features = encoder(image)\n",
        "caps = decoder.sample(features)\n",
        "caps = caps.cpu().data.numpy()\n",
        "caption = []\n",
        "\n",
        "#Changing word indexes into words\n",
        "for word_id in caps:\n",
        "    word = vocabulary.getWord(word_id.item())\n",
        "    caption.append(word)\n",
        "    if word == '<end>':\n",
        "        break\n",
        "sentence = ' '.join(caption)\n",
        "\n",
        "#Printing caption and showing the image\n",
        "print (sentence)\n",
        "image = Image.open('./Flicker8k_Dataset/'+ str(filename))\n",
        "plt.imshow(np.asarray(image))"
      ],
      "execution_count": 15,
      "outputs": [
        {
          "output_type": "stream",
          "text": [
            "<start> a man in a blue shirt is standing in a field of snow . <end>\n"
          ],
          "name": "stdout"
        },
        {
          "output_type": "execute_result",
          "data": {
            "text/plain": [
              "<matplotlib.image.AxesImage at 0x7f7fd8d91d68>"
            ]
          },
          "metadata": {
            "tags": []
          },
          "execution_count": 15
        },
        {
          "output_type": "display_data",
          "data": {
            "image/png": "[encoded data removed]",
            "text/plain": [
              "<Figure size 432x288 with 1 Axes>"
            ]
          },
          "metadata": {
            "tags": []
          }
        }
      ]
    },
    {
      "cell_type": "markdown",
      "metadata": {
        "id": "o2LUkSbI3kk1",
        "colab_type": "text"
      },
      "source": [
        "## BLEU-1 Metric Score"
      ]
    },
    {
      "cell_type": "code",
      "metadata": {
        "id": "ealz2VCO3O2G",
        "colab_type": "code",
        "colab": {
          "base_uri": "https://localhost:8080/",
          "height": 69
        },
        "outputId": "a52e7e48-c6ce-4160-fa9a-96b561040fe3"
      },
      "source": [
        "from nltk.translate.bleu_score import corpus_bleu\n",
        "\n",
        "def bleu(val_loader, encoder, decoder):\n",
        "    \"\"\"\n",
        "    :param val_loader: DataLoader for validation data.\n",
        "    :param encoder: encoder model\n",
        "    :param decoder: decoder model\n",
        "    :return: BLEU-1 score\n",
        "    \"\"\"\n",
        "\n",
        "    encoder.eval()\n",
        "    decoder.eval()\n",
        "    \n",
        "    references = list()  # Labeled sentences\n",
        "    hypotheses = list()  # Predicted sentences\n",
        " \n",
        "    for i, (imgs, caps, caplens) in enumerate(val_loader):\n",
        "\n",
        "        imgs = imgs.to(device)\n",
        "        caps = caps.to(device)\n",
        "\n",
        "        feature = encoder(imgs)\n",
        "        sampled_ids = decoder.sample(feature)\n",
        "\n",
        "        #Hypotheses\n",
        "        for i in range(sampled_ids.shape[0]):\n",
        "          sampled = sampled_ids[i].cpu().numpy()\n",
        "          caption = []\n",
        "          for word_id in sampled:\n",
        "            if word_id == vocabulary.getId('<end>'):\n",
        "                break\n",
        "            caption.append(word_id)\n",
        "          if(caption[0]== 0):\n",
        "              caption.remove(0)\n",
        "          hypotheses.append(caption)\n",
        "\n",
        "        # References\n",
        "        for j in range(caps.shape[0]):\n",
        "            img_caps = caps[j].tolist()\n",
        "            img_captions = list(\n",
        "                map(\n",
        "                    lambda c: [\n",
        "                        w for w in img_caps if w not in\n",
        "                        {vocabulary.getId('<start>'),\n",
        "                         vocabulary.getId('<end>')}\n",
        "                    ], img_caps))  # First and last unnecessary tokens removed\n",
        "            references.append(img_captions)\n",
        "\n",
        "    assert len(references) == len(hypotheses)\n",
        " \n",
        "    #Bleu\n",
        "    bleu1 = corpus_bleu(references, hypotheses, weights=(1.0/1.0,))\n",
        "    #bleu4 = corpus_bleu(references, hypotheses, weights=(1.0/4.0, 1.0/4.0, 1.0/4.0, 1.0/4.0,))\n",
        "\n",
        "    print('BLEU-1: {bleu}\\n'.format(bleu=bleu1))\n",
        "    #print('BLEU-4: {bleu}\\n'.format(bleu=bleu4))\n",
        "\n",
        "    return bleu1\n",
        "\n",
        "#Loading checkpoint and initializing encoder and decoder\n",
        "ckpt_dir = os.path.join(gdrive_data, 'checkpoints')\n",
        "ckpt_path = os.path.join(ckpt_dir, '60_1835.pt')\n",
        "checkpoint = torch.load(ckpt_path)\n",
        "\n",
        "embed_size = checkpoint['embed_size']\n",
        "hidden_size = checkpoint['hidden_size']\n",
        "\n",
        "encoder = GoogleNet(embed_size).to(device)\n",
        "decoder = CaptionGeneratingModel(embed_size, hidden_size, vocabulary.vocabSize(),1).to(device)\n",
        "\n",
        "decoder_state_dict = checkpoint['RNN']\n",
        "encoder_state_dict = checkpoint['CNN']\n",
        "encoder.load_state_dict(encoder_state_dict)\n",
        "decoder.load_state_dict(decoder_state_dict)\n",
        "\n",
        "#Execution of bleu \n",
        "bleu(val_loader, encoder, decoder)  "
      ],
      "execution_count": 16,
      "outputs": [
        {
          "output_type": "stream",
          "text": [
            "BLEU-1: 0.2946672813892732\n",
            "\n"
          ],
          "name": "stdout"
        },
        {
          "output_type": "execute_result",
          "data": {
            "text/plain": [
              "0.2946672813892732"
            ]
          },
          "metadata": {
            "tags": []
          },
          "execution_count": 16
        }
      ]
    }
  ]
}